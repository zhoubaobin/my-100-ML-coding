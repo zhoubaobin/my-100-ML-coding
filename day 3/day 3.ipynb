{
 "cells": [
  {
   "cell_type": "markdown",
   "metadata": {},
   "source": [
    "1.A successful regression analysis must contain the following elements:\n",
    "    linearity -- relationship between varibles must be linear\n",
    "    constant variance of the errors should be maintained\n",
    "    residuals must be normally distributed\n",
    "    lack of multicollinearity\n",
    "2.Too many varibles could cause less accurate.especially if certain  \n",
    "  variables have no/large effect on the outcome.remove them.\n",
    "3.dummy varible trap -- drop one of the categorical varibles"
   ]
  },
  {
   "cell_type": "code",
   "execution_count": 5,
   "metadata": {},
   "outputs": [],
   "source": [
    "# step 1 six steps of day 1, but add avoiding dummy varible trap\n",
    "\n",
    "import pandas as pd\n",
    "from sklearn.preprocessing import LabelEncoder,OneHotEncoder, StandardScaler\n",
    "from sklearn.model_selection import train_test_split\n",
    "\n",
    "dataset = pd.read_csv('50_Startups.csv')\n",
    "X = dataset.iloc[:, :-1].values\n",
    "Y = dataset.iloc[:,4].values\n",
    "X[:,3] = LabelEncoder().fit_transform(X[:,3])\n",
    "X = OneHotEncoder(categorical_features=[3]).fit_transform(X).toarray()\n",
    "\n",
    "# avoid dummy varible trap\n",
    "x = X\n",
    "X = X[:,1:]\n",
    "\n",
    "X_train, X_test, Y_train, Y_test = train_test_split(X, Y, test_size=0.2)"
   ]
  },
  {
   "cell_type": "code",
   "execution_count": 2,
   "metadata": {},
   "outputs": [],
   "source": [
    "# step 2 fit multiple variables model to training data\n",
    "\n",
    "from sklearn.linear_model import LinearRegression\n",
    "\n",
    "regressor = LinearRegression()\n",
    "regressor = regressor.fit(X_train, Y_train)"
   ]
  },
  {
   "cell_type": "code",
   "execution_count": 3,
   "metadata": {},
   "outputs": [],
   "source": [
    "# step 3 predict the test data\n",
    "\n",
    "Y_pred = regressor.predict(X_test)"
   ]
  },
  {
   "cell_type": "code",
   "execution_count": null,
   "metadata": {},
   "outputs": [],
   "source": []
  }
 ],
 "metadata": {
  "kernelspec": {
   "display_name": "Python 3",
   "language": "python",
   "name": "python3"
  },
  "language_info": {
   "codemirror_mode": {
    "name": "ipython",
    "version": 3
   },
   "file_extension": ".py",
   "mimetype": "text/x-python",
   "name": "python",
   "nbconvert_exporter": "python",
   "pygments_lexer": "ipython3",
   "version": "3.6.5"
  }
 },
 "nbformat": 4,
 "nbformat_minor": 2
}
